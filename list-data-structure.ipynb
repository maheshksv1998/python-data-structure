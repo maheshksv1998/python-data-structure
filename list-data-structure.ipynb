{
 "cells": [
  {
   "cell_type": "markdown",
   "metadata": {},
   "source": [
    "### task detail using append"
   ]
  },
  {
   "cell_type": "code",
   "execution_count": 8,
   "metadata": {},
   "outputs": [
    {
     "name": "stdout",
     "output_type": "stream",
     "text": [
      "Worked upon ecommerce\n",
      "worked upon puravida\n",
      "worked upon tecmantras\n"
     ]
    }
   ],
   "source": [
    "task_data = []\n",
    "\n",
    "while True:\n",
    "    task = input(\"enter task status (type done for close)\")\n",
    "    if task.lower() == 'done':\n",
    "        break\n",
    "    task_data.append(task)    \n",
    "\n",
    "# show all task\n",
    "for data in task_data:\n",
    "    print(data)    \n"
   ]
  },
  {
   "cell_type": "markdown",
   "metadata": {},
   "source": [
    "### Student Grade using append"
   ]
  },
  {
   "cell_type": "code",
   "execution_count": 17,
   "metadata": {},
   "outputs": [
    {
     "name": "stdout",
     "output_type": "stream",
     "text": [
      "Average grade 5.67\n"
     ]
    }
   ],
   "source": [
    "grades = []\n",
    "\n",
    "while True:\n",
    "    grade = input(\"enter grade number (type done for close)\")\n",
    "    if grade.lower() == 'done':\n",
    "        break\n",
    "\n",
    "    if grade.isdigit():\n",
    "        grades.append(int(grade))\n",
    "\n",
    "## Display grade\n",
    "if grades:\n",
    "    average = round(sum(grades) / len(grades), 2)\n",
    "    print(f\"Average grade\", average)            "
   ]
  },
  {
   "cell_type": "markdown",
   "metadata": {},
   "source": [
    "### Undo Last Action using pop"
   ]
  },
  {
   "cell_type": "code",
   "execution_count": 19,
   "metadata": {},
   "outputs": [
    {
     "name": "stdout",
     "output_type": "stream",
     "text": [
      "mahesh\n",
      "malay\n",
      "jigar\n"
     ]
    }
   ],
   "source": [
    "actions = []\n",
    "\n",
    "while True:\n",
    "    user_input = input(\"enter action name and if you type undo then remove last action (type done for close)\")\n",
    "\n",
    "    if user_input.lower() == 'done':\n",
    "        break\n",
    "    elif user_input.lower() == 'undo':\n",
    "        if actions:\n",
    "            actions.pop()\n",
    "    else:\n",
    "        actions.append(user_input)\n",
    "\n",
    "\n",
    "## display all actions\n",
    "for data in actions:\n",
    "    print(data)"
   ]
  },
  {
   "cell_type": "markdown",
   "metadata": {},
   "source": [
    "### Show Latest Email"
   ]
  },
  {
   "cell_type": "code",
   "execution_count": 21,
   "metadata": {},
   "outputs": [
    {
     "name": "stdout",
     "output_type": "stream",
     "text": [
      "Latest mail\n",
      "Welcome to our newsletter!\n"
     ]
    }
   ],
   "source": [
    "mail = [\n",
    "    \"Welcome to our newsletter!\",\n",
    "    \"Your OTP is 4895\",\n",
    "    \"Your account is blocked\",\n",
    "]\n",
    "\n",
    "print(\"Latest mail\")\n",
    "print(mail[0])"
   ]
  },
  {
   "cell_type": "markdown",
   "metadata": {},
   "source": [
    "### Last Login msg"
   ]
  },
  {
   "cell_type": "code",
   "execution_count": 22,
   "metadata": {},
   "outputs": [
    {
     "name": "stdout",
     "output_type": "stream",
     "text": [
      "Last login msg\n",
      "login at 5pm\n"
     ]
    }
   ],
   "source": [
    "data = [\n",
    "    \"login at 1pm\",\n",
    "    \"login at 2pm\",\n",
    "    \"login at 5pm\"\n",
    "]\n",
    "\n",
    "print(\"Last login msg\")\n",
    "print(data[-1])"
   ]
  },
  {
   "cell_type": "markdown",
   "metadata": {},
   "source": [
    "### show 2nd and 3rd headlines"
   ]
  },
  {
   "cell_type": "code",
   "execution_count": 27,
   "metadata": {},
   "outputs": [
    {
     "name": "stdout",
     "output_type": "stream",
     "text": [
      "Tech Giants Release New AI Tools\n",
      "Sports Update: Local Team Wins\n"
     ]
    }
   ],
   "source": [
    "headlines = [\n",
    "    \"Breaking: Market Hits All-Time High\",\n",
    "    \"Tech Giants Release New AI Tools\",\n",
    "    \"Sports Update: Local Team Wins\",\n",
    "    \"Weather Alert: Storm Incoming\",\n",
    "    \"Finance Tips for 2025\"\n",
    "]\n",
    "\n",
    "# show 2nd and 3rd headlines\n",
    "show_headline = headlines[1:3]\n",
    "\n",
    "for data in show_headline:\n",
    "    print(data)"
   ]
  },
  {
   "cell_type": "code",
   "execution_count": null,
   "metadata": {},
   "outputs": [],
   "source": []
  }
 ],
 "metadata": {
  "kernelspec": {
   "display_name": "Python 3 (ipykernel)",
   "language": "python",
   "name": "python3"
  },
  "language_info": {
   "codemirror_mode": {
    "name": "ipython",
    "version": 3
   },
   "file_extension": ".py",
   "mimetype": "text/x-python",
   "name": "python",
   "nbconvert_exporter": "python",
   "pygments_lexer": "ipython3",
   "version": "3.12.9"
  }
 },
 "nbformat": 4,
 "nbformat_minor": 2
}
